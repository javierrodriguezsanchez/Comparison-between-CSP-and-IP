{
 "cells": [
  {
   "cell_type": "markdown",
   "metadata": {},
   "source": [
    "# Data generation\n",
    "\n",
    "This notebook create instances of classes of problems with the CSP and IP solutions with the time needed to solve it respectively"
   ]
  },
  {
   "cell_type": "code",
   "execution_count": 2,
   "metadata": {},
   "outputs": [],
   "source": [
    "from math import isclose\n",
    "import json\n",
    "import os\n",
    "\n",
    "def generate_data(folder, problems, function_a, function_b):    \n",
    "    # Verificar si el archivo JSON ya existe\n",
    "    if os.path.exists(f'{folder}/data.json'):\n",
    "        # Leer el contenido existente del archivo JSON\n",
    "        with open(f'{folder}/data.json', 'r') as f:\n",
    "            datos = json.load(f)\n",
    "    else:\n",
    "        # Si no existe, inicializar un nuevo diccionario\n",
    "        datos = {}\n",
    "    \n",
    "    for problem in problems:\n",
    "        # Comprueba si el problema se analizo ya\n",
    "        if str(problem) in datos:\n",
    "            continue\n",
    "\n",
    "        result_a = function_a(problem)\n",
    "        result_b = function_b(problem)\n",
    "\n",
    "        if isinstance(result_a['result'],float) or isinstance(result_b['result'], float):\n",
    "            # Usa una tolerancia para la comparación de floats\n",
    "            if not isclose(result_a['result'], result_b['result'], rel_tol=1e-1, abs_tol=1e-1):\n",
    "                print(f'Error:')\n",
    "                print(problem)\n",
    "                print(\"Solución CSP:\")\n",
    "                print(result_a)\n",
    "                print(\"Solución IP:\")\n",
    "                print(result_b)\n",
    "                return\n",
    "\n",
    "        elif result_a['result'] != result_b['result']:\n",
    "            print(f'Error:')\n",
    "            print(problem)\n",
    "            print(\"Solución CSP:\")\n",
    "            print(result_a)\n",
    "            print(\"Solución IP:\")\n",
    "            print(result_b)\n",
    "            return\n",
    "\n",
    "        new_data = {\n",
    "            str(problem): {\n",
    "                \"description\":problem.properties,\n",
    "                \"results\":[result_a, result_b]\n",
    "            }\n",
    "        }\n",
    "        # Agregar el nuevo dato al diccionario\n",
    "        datos.update(new_data)\n",
    "\n",
    "    # Escribir el diccionario actualizado de vuelta al archivo JSON\n",
    "    with open(f'{folder}/data.json', 'w') as f:\n",
    "        json.dump(datos, f, indent=4)"
   ]
  },
  {
   "cell_type": "markdown",
   "metadata": {},
   "source": [
    "### Knapsack"
   ]
  },
  {
   "cell_type": "code",
   "execution_count": 4,
   "metadata": {},
   "outputs": [
    {
     "name": "stdout",
     "output_type": "stream",
     "text": [
      "Done\n"
     ]
    }
   ],
   "source": [
    "from Knapsack.Knapsack import problem_builder\n",
    "from Knapsack.CSP import solve as CSP_solve\n",
    "from Knapsack.IP import solve as IP_solve\n",
    "\n",
    "problems = [problem_builder(i+1,j+1) for i in range(100) for j in range(100)]\n",
    "generate_data('Knapsack',problems, CSP_solve, IP_solve)\n",
    "print(\"Done\")"
   ]
  },
  {
   "cell_type": "markdown",
   "metadata": {},
   "source": [
    "### K-Colorability"
   ]
  },
  {
   "cell_type": "code",
   "execution_count": 32,
   "metadata": {},
   "outputs": [
    {
     "name": "stdout",
     "output_type": "stream",
     "text": [
      "Done\n"
     ]
    }
   ],
   "source": [
    "from K_Colorability.Grafo import problem_builder\n",
    "from K_Colorability.CSP import solve as CSP_solve\n",
    "from K_Colorability.IP import solve as IP_solve\n",
    "\n",
    "problems = [problem_builder(i+1,0.8) for i in range(18,20)]\n",
    "generate_data('K_Colorability',problems, CSP_solve, IP_solve)\n",
    "print(\"Done\")"
   ]
  },
  {
   "cell_type": "markdown",
   "metadata": {},
   "source": [
    "### Traveling Salesman Problem"
   ]
  },
  {
   "cell_type": "code",
   "execution_count": 16,
   "metadata": {},
   "outputs": [
    {
     "name": "stdout",
     "output_type": "stream",
     "text": [
      "Done\n"
     ]
    }
   ],
   "source": [
    "from TSP.TSP import problem_builder\n",
    "from TSP.CSP import solve as CSP_solve\n",
    "from TSP.IP import solve as IP_solve\n",
    "\n",
    "problems = [problem_builder(i+3) for i in range(38)]\n",
    "generate_data('TSP',problems, CSP_solve, IP_solve)\n",
    "print(\"Done\")"
   ]
  },
  {
   "cell_type": "markdown",
   "metadata": {},
   "source": [
    "### Bin Packing"
   ]
  },
  {
   "cell_type": "code",
   "execution_count": 2,
   "metadata": {},
   "outputs": [
    {
     "name": "stdout",
     "output_type": "stream",
     "text": [
      "Done\n"
     ]
    }
   ],
   "source": [
    "from BinPacking.BinPacking import problem_builder\n",
    "from BinPacking.CSP import solve as CSP_solve\n",
    "from BinPacking.IP import solve as IP_solve\n",
    "\n",
    "problems = [problem_builder(i+1,j+2) for i in range(12) for j in range(11)]\n",
    "generate_data('BinPacking',problems, CSP_solve, IP_solve)\n",
    "print(\"Done\")"
   ]
  },
  {
   "cell_type": "markdown",
   "metadata": {},
   "source": [
    "### Set Cover"
   ]
  },
  {
   "cell_type": "code",
   "execution_count": 4,
   "metadata": {},
   "outputs": [
    {
     "name": "stdout",
     "output_type": "stream",
     "text": [
      "Done\n"
     ]
    }
   ],
   "source": [
    "from SetCover.SetCover import problem_builder\n",
    "from SetCover.CSP import solve as CSP_solve\n",
    "from SetCover.IP import solve as IP_solve\n",
    "\n",
    "problems = [problem_builder(i+1,j+1) for i in range(7,100) for j in range(100)]\n",
    "generate_data('SetCover',problems, CSP_solve, IP_solve)\n",
    "print(\"Done\")"
   ]
  },
  {
   "cell_type": "markdown",
   "metadata": {},
   "source": [
    "### Max Clique"
   ]
  },
  {
   "cell_type": "code",
   "execution_count": 15,
   "metadata": {},
   "outputs": [
    {
     "name": "stdout",
     "output_type": "stream",
     "text": [
      "Done\n"
     ]
    }
   ],
   "source": [
    "from MaxClique.Clique import problem_builder\n",
    "from MaxClique.CSP import solve as CSP_solve\n",
    "from MaxClique.IP import solve as IP_solve\n",
    "\n",
    "problems = [problem_builder(i+1,j/10.0) for i in range(70) for j in range(10)]\n",
    "generate_data('MaxClique',problems, CSP_solve, IP_solve)\n",
    "print(\"Done\")"
   ]
  },
  {
   "cell_type": "markdown",
   "metadata": {},
   "source": [
    "### Portfolio"
   ]
  },
  {
   "cell_type": "code",
   "execution_count": null,
   "metadata": {},
   "outputs": [],
   "source": [
    "from Portfolio.Portfolio import problem_builder\n",
    "from Portfolio.CSP import solve as CSP_solve\n",
    "from Portfolio.IP import solve as IP_solve\n",
    "\n",
    "#problems = [problem_builder(i+1,j,k+1) for i in range(9,10) for j in range(7,8) for k in range(4,5)]\n",
    "problems = [problem_builder(10,7,5)]\n",
    "generate_data('Portfolio',problems, CSP_solve, IP_solve)\n",
    "print(\"Done\")"
   ]
  },
  {
   "cell_type": "markdown",
   "metadata": {},
   "source": [
    "### Vehicle Routing Problem"
   ]
  },
  {
   "cell_type": "code",
   "execution_count": 4,
   "metadata": {},
   "outputs": [
    {
     "name": "stdout",
     "output_type": "stream",
     "text": [
      "Done\n"
     ]
    }
   ],
   "source": [
    "from VRP.VRP import problem_builder\n",
    "from VRP.CSP import solve as CSP_solve\n",
    "from VRP.IP import solve as IP_solve\n",
    "\n",
    "problems = [problem_builder(i+1,j+1, True, True) for i in range(20) for j in range(5)]\n",
    "generate_data('VRP',problems, CSP_solve, IP_solve)\n",
    "print(\"Done\")"
   ]
  },
  {
   "cell_type": "markdown",
   "metadata": {},
   "source": [
    "### JSP"
   ]
  },
  {
   "cell_type": "code",
   "execution_count": null,
   "metadata": {},
   "outputs": [],
   "source": [
    "from JSP.JSP import problem_builder\n",
    "from JSP.CSP import solve as CSP_solve\n",
    "from JSP.IP import solve as IP_solve\n",
    "\n",
    "problems = [problem_builder(i+1,j+1, 5, 5) for i in range(19) for j in range(4)]\n",
    "for problem in problems:\n",
    "    generate_data('JSP',[problem], CSP_solve, IP_solve)\n",
    "print(\"Done\")"
   ]
  }
 ],
 "metadata": {
  "kernelspec": {
   "display_name": "base",
   "language": "python",
   "name": "python3"
  },
  "language_info": {
   "codemirror_mode": {
    "name": "ipython",
    "version": 3
   },
   "file_extension": ".py",
   "mimetype": "text/x-python",
   "name": "python",
   "nbconvert_exporter": "python",
   "pygments_lexer": "ipython3",
   "version": "3.10.13"
  }
 },
 "nbformat": 4,
 "nbformat_minor": 2
}
