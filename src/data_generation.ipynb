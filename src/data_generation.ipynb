{
 "cells": [
  {
   "cell_type": "code",
   "execution_count": 1,
   "metadata": {},
   "outputs": [],
   "source": [
    "from math import isclose\n",
    "import json\n",
    "import os\n",
    "\n",
    "def generate_data(folder, problems, function_a, function_b):    \n",
    "    # Verificar si el archivo JSON ya existe\n",
    "    if os.path.exists(f'{folder}/data.json'):\n",
    "        # Leer el contenido existente del archivo JSON\n",
    "        with open(f'{folder}/data.json', 'r') as f:\n",
    "            datos = json.load(f)\n",
    "    else:\n",
    "        # Si no existe, inicializar un nuevo diccionario\n",
    "        datos = {}\n",
    "    \n",
    "    for problem in problems:\n",
    "        # Comprueba si el problema se analizo ya\n",
    "        if str(problem) in datos:\n",
    "            continue\n",
    "\n",
    "        result_a = function_a(problem)\n",
    "        result_b = function_b(problem)\n",
    "\n",
    "        if isinstance(result_a['result'],float) or isinstance(result_b['result'], float):\n",
    "            # Usa una tolerancia para la comparación de floats\n",
    "            if not isclose(result_a['result'], result_b['result'], rel_tol=1e-1, abs_tol=1e-1):\n",
    "                print(f'Error:')\n",
    "                print(problem)\n",
    "                print(\"Solución CSP:\")\n",
    "                print(result_a)\n",
    "                print(\"Solución IP:\")\n",
    "                print(result_b)\n",
    "                return\n",
    "\n",
    "        elif result_a['result'] != result_b['result']:\n",
    "            print(f'Error:')\n",
    "            print(problem)\n",
    "            print(\"Solución CSP:\")\n",
    "            print(result_a)\n",
    "            print(\"Solución IP:\")\n",
    "            print(result_b)\n",
    "            return\n",
    "\n",
    "        new_data = {\n",
    "            str(problem): {\n",
    "                \"description\":problem.properties,\n",
    "                \"results\":[result_a, result_b]\n",
    "            }\n",
    "        }\n",
    "        # Agregar el nuevo dato al diccionario\n",
    "        datos.update(new_data)\n",
    "\n",
    "    # Escribir el diccionario actualizado de vuelta al archivo JSON\n",
    "    with open(f'{folder}/data.json', 'w') as f:\n",
    "        json.dump(datos, f, indent=4)"
   ]
  },
  {
   "cell_type": "markdown",
   "metadata": {},
   "source": [
    "### Knapsack"
   ]
  },
  {
   "cell_type": "code",
   "execution_count": 2,
   "metadata": {},
   "outputs": [
    {
     "name": "stdout",
     "output_type": "stream",
     "text": [
      "Done\n"
     ]
    }
   ],
   "source": [
    "from Knapsack.Knapsack import problem_builder\n",
    "from Knapsack.CSP import solve as CSP_solve\n",
    "from Knapsack.IP import solve as IP_solve\n",
    "\n",
    "problems = [problem_builder(i+1,100) for i in range(100)]\n",
    "generate_data('Knapsack',problems, CSP_solve, IP_solve)\n",
    "print(\"Done\")"
   ]
  }
 ],
 "metadata": {
  "kernelspec": {
   "display_name": "base",
   "language": "python",
   "name": "python3"
  },
  "language_info": {
   "codemirror_mode": {
    "name": "ipython",
    "version": 3
   },
   "file_extension": ".py",
   "mimetype": "text/x-python",
   "name": "python",
   "nbconvert_exporter": "python",
   "pygments_lexer": "ipython3",
   "version": "3.10.13"
  }
 },
 "nbformat": 4,
 "nbformat_minor": 2
}
