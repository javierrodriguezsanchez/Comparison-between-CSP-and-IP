{
 "cells": [
  {
   "cell_type": "code",
   "execution_count": 1,
   "metadata": {},
   "outputs": [],
   "source": [
    "# cargar los problemas\n",
    "import json\n",
    "import inspect\n",
    "\n",
    "def load_problems(directory, clase):\n",
    "    # Ruta del archivo JSON\n",
    "    ruta_json = f\"{directory}/data.json\"\n",
    "\n",
    "    # Leer el archivo JSON\n",
    "    with open(ruta_json, \"r\", encoding=\"utf-8\") as archivo:\n",
    "        datos = json.load(archivo)\n",
    "    \n",
    "    problemas = []\n",
    "    for a in datos.keys():\n",
    "        \n",
    "        problema = datos[a]['description']\n",
    "        \n",
    "        # Obtener los parámetros esperados por el constructor de A\n",
    "        parametros_constructor = inspect.signature(clase).parameters.keys()\n",
    "\n",
    "        # Filtrar solo los parámetros que A acepta\n",
    "        parametros_filtrados = {k: v for k, v in problema.items() if k in parametros_constructor}\n",
    "\n",
    "        # Crear una instancia de A con los parámetros correctos\n",
    "        instancia = clase(**parametros_filtrados)\n",
    "\n",
    "        problemas.append(instancia)\n",
    "    \n",
    "    return problemas\n",
    "# recrear los problemas\n",
    "# reejecutar los problemas\n",
    "# guardar los espacios en un json"
   ]
  },
  {
   "cell_type": "code",
   "execution_count": 2,
   "metadata": {},
   "outputs": [],
   "source": [
    "# cargar los problemas\n",
    "import json\n",
    "\n",
    "def medir_tiempo(directory):\n",
    "    # Ruta del archivo JSON\n",
    "    ruta_json = f\"{directory}/data.json\"\n",
    "\n",
    "    # Leer el archivo JSON\n",
    "    with open(ruta_json, \"r\", encoding=\"utf-8\") as archivo:\n",
    "        datos = json.load(archivo)\n",
    "    \n",
    "    tiempo=0\n",
    "    for a in datos.keys():\n",
    "        problema = datos[a]['results']\n",
    "        for x in problema:\n",
    "            tiempo += x['time']\n",
    "    return tiempo"
   ]
  },
  {
   "cell_type": "code",
   "execution_count": 10,
   "metadata": {},
   "outputs": [],
   "source": [
    "import tracemalloc\n",
    "\n",
    "# Medir memoria antes y después del método\n",
    "def medir_memoria(metodo, *args):\n",
    "    tracemalloc.start()  # Iniciar monitoreo\n",
    "\n",
    "    metodo(*args)  # Ejecutar el método con su entrada\n",
    "\n",
    "    memoria_usada = tracemalloc.get_traced_memory()\n",
    "    tracemalloc.stop()  # Detener monitoreo\n",
    "    return memoria_usada[1] - memoria_usada[0]\n",
    "\n",
    "def guardar_memoria(problems, ip, csp, directory):\n",
    "    memory = {}\n",
    "    for problem in problems:\n",
    "        ip_mem = medir_memoria(ip,problem)\n",
    "        csp_mem = medir_memoria(csp,problem)\n",
    "        memory[str(problem)] = {\n",
    "            'IP':ip_mem,\n",
    "            'CSP':csp_mem,\n",
    "            \"properties\":problem.properties\n",
    "        }\n",
    "    \n",
    "    ruta_archivo = f\"{directory}/memory.json\"\n",
    "\n",
    "    # Guardar la lista en el archivo JSON\n",
    "    with open(ruta_archivo, \"w\", encoding=\"utf-8\") as archivo:\n",
    "        json.dump(memory, archivo, indent=4)  # `indent=4` para formato legible\n",
    "\n",
    "    print(f\"Lista guardada en {ruta_archivo}\")\n"
   ]
  },
  {
   "cell_type": "code",
   "execution_count": 34,
   "metadata": {},
   "outputs": [
    {
     "name": "stdout",
     "output_type": "stream",
     "text": [
      "Lista guardada en K_Colorability/memory.json\n"
     ]
    }
   ],
   "source": [
    "from K_Colorability.Grafo import Grafo\n",
    "from K_Colorability.CSP import solve as CSP_solve\n",
    "from K_Colorability.IP import solve as IP_solve\n",
    "\n",
    "problems = load_problems(\"K_Colorability\", Grafo)\n",
    "\n",
    "\n",
    "guardar_memoria(problems,IP_solve,CSP_solve,\"K_Colorability\")"
   ]
  },
  {
   "cell_type": "code",
   "execution_count": 5,
   "metadata": {},
   "outputs": [
    {
     "name": "stdout",
     "output_type": "stream",
     "text": [
      "Lista guardada en TSP/memory.json\n"
     ]
    }
   ],
   "source": [
    "from TSP.TSP import TSP\n",
    "from TSP.CSP import solve as CSP_solve\n",
    "from TSP.IP import solve as IP_solve\n",
    "\n",
    "problems = load_problems(\"TSP\", TSP)\n",
    "#print(medir_tiempo(\"TSP\"))\n",
    "\n",
    "guardar_memoria(problems,IP_solve,CSP_solve,\"TSP\")"
   ]
  },
  {
   "cell_type": "code",
   "execution_count": 7,
   "metadata": {},
   "outputs": [
    {
     "name": "stdout",
     "output_type": "stream",
     "text": [
      "Lista guardada en BinPacking/memory.json\n"
     ]
    }
   ],
   "source": [
    "from BinPacking.BinPacking import BinPacking\n",
    "from BinPacking.CSP import solve as CSP_solve\n",
    "from BinPacking.IP import solve as IP_solve\n",
    "\n",
    "problems = load_problems(\"BinPacking\", BinPacking)\n",
    "#print(medir_tiempo(\"BinPacking\"))\n",
    "\n",
    "guardar_memoria(problems,IP_solve,CSP_solve,\"BinPacking\")"
   ]
  },
  {
   "cell_type": "code",
   "execution_count": 12,
   "metadata": {},
   "outputs": [
    {
     "name": "stdout",
     "output_type": "stream",
     "text": [
      "Lista guardada en MaxClique/memory.json\n"
     ]
    }
   ],
   "source": [
    "from MaxClique.Clique import Clique\n",
    "from MaxClique.CSP import solve as CSP_solve\n",
    "from MaxClique.IP import solve as IP_solve\n",
    "\n",
    "problems = load_problems(\"MaxClique\", Clique)\n",
    "#print(medir_tiempo(\"MaxClique\"))\n",
    "\n",
    "guardar_memoria(problems,IP_solve,CSP_solve,\"MaxClique\")"
   ]
  },
  {
   "cell_type": "code",
   "execution_count": 15,
   "metadata": {},
   "outputs": [
    {
     "name": "stdout",
     "output_type": "stream",
     "text": [
      "Lista guardada en Portfolio/memory.json\n"
     ]
    }
   ],
   "source": [
    "from Portfolio.Portfolio import Portfolio\n",
    "from Portfolio.CSP import solve as CSP_solve\n",
    "from Portfolio.IP import solve as IP_solve\n",
    "\n",
    "problems = load_problems(\"Portfolio\", Portfolio)\n",
    "#print(medir_tiempo(\"Portfolio\"))\n",
    "\n",
    "guardar_memoria(problems,IP_solve,CSP_solve,\"Portfolio\")"
   ]
  },
  {
   "cell_type": "code",
   "execution_count": 33,
   "metadata": {},
   "outputs": [
    {
     "name": "stdout",
     "output_type": "stream",
     "text": [
      "Lista guardada en VRP/memory.json\n"
     ]
    }
   ],
   "source": [
    "from VRP.VRP import VRP\n",
    "from VRP.CSP import solve as CSP_solve\n",
    "from VRP.IP import solve as IP_solve\n",
    "\n",
    "problems = load_problems(\"VRP\", VRP)\n",
    "#print(medir_tiempo(\"VRP\"))\n",
    "\n",
    "guardar_memoria(problems,IP_solve,CSP_solve,\"VRP\")"
   ]
  },
  {
   "cell_type": "code",
   "execution_count": 27,
   "metadata": {},
   "outputs": [
    {
     "ename": "KeyError",
     "evalue": "'Grafo de tamaño 3\\n[[0, 1], [1, 2]]'",
     "output_type": "error",
     "traceback": [
      "\u001b[1;31m---------------------------------------------------------------------------\u001b[0m",
      "\u001b[1;31mKeyError\u001b[0m                                  Traceback (most recent call last)",
      "Cell \u001b[1;32mIn[27], line 20\u001b[0m\n\u001b[0;32m     17\u001b[0m     \u001b[38;5;28;01mwith\u001b[39;00m \u001b[38;5;28mopen\u001b[39m(ruta_json, \u001b[38;5;124m\"\u001b[39m\u001b[38;5;124mw\u001b[39m\u001b[38;5;124m\"\u001b[39m, encoding\u001b[38;5;241m=\u001b[39m\u001b[38;5;124m\"\u001b[39m\u001b[38;5;124mutf-8\u001b[39m\u001b[38;5;124m\"\u001b[39m) \u001b[38;5;28;01mas\u001b[39;00m archivo:\n\u001b[0;32m     18\u001b[0m         json\u001b[38;5;241m.\u001b[39mdump(memoria, archivo, indent\u001b[38;5;241m=\u001b[39m\u001b[38;5;241m4\u001b[39m)  \u001b[38;5;66;03m# `indent=4` para formato legible\u001b[39;00m\n\u001b[1;32m---> 20\u001b[0m \u001b[43mcorregir_properties\u001b[49m\u001b[43m(\u001b[49m\u001b[38;5;124;43m\"\u001b[39;49m\u001b[38;5;124;43mK_Colorability\u001b[39;49m\u001b[38;5;124;43m\"\u001b[39;49m\u001b[43m)\u001b[49m\n",
      "Cell \u001b[1;32mIn[27], line 15\u001b[0m, in \u001b[0;36mcorregir_properties\u001b[1;34m(directory)\u001b[0m\n\u001b[0;32m     12\u001b[0m     memoria \u001b[38;5;241m=\u001b[39m json\u001b[38;5;241m.\u001b[39mload(archivo)\n\u001b[0;32m     14\u001b[0m \u001b[38;5;28;01mfor\u001b[39;00m problema \u001b[38;5;129;01min\u001b[39;00m memoria\u001b[38;5;241m.\u001b[39mkeys():\n\u001b[1;32m---> 15\u001b[0m     memoria[problema][\u001b[38;5;124m\"\u001b[39m\u001b[38;5;124mproperties\u001b[39m\u001b[38;5;124m\"\u001b[39m]\u001b[38;5;241m=\u001b[39m\u001b[43mdatos\u001b[49m\u001b[43m[\u001b[49m\u001b[43mproblema\u001b[49m\u001b[43m]\u001b[49m[\u001b[38;5;124m\"\u001b[39m\u001b[38;5;124mdescription\u001b[39m\u001b[38;5;124m\"\u001b[39m]\n\u001b[0;32m     17\u001b[0m \u001b[38;5;28;01mwith\u001b[39;00m \u001b[38;5;28mopen\u001b[39m(ruta_json, \u001b[38;5;124m\"\u001b[39m\u001b[38;5;124mw\u001b[39m\u001b[38;5;124m\"\u001b[39m, encoding\u001b[38;5;241m=\u001b[39m\u001b[38;5;124m\"\u001b[39m\u001b[38;5;124mutf-8\u001b[39m\u001b[38;5;124m\"\u001b[39m) \u001b[38;5;28;01mas\u001b[39;00m archivo:\n\u001b[0;32m     18\u001b[0m     json\u001b[38;5;241m.\u001b[39mdump(memoria, archivo, indent\u001b[38;5;241m=\u001b[39m\u001b[38;5;241m4\u001b[39m)\n",
      "\u001b[1;31mKeyError\u001b[0m: 'Grafo de tamaño 3\\n[[0, 1], [1, 2]]'"
     ]
    }
   ],
   "source": [
    "def corregir_properties(directory):\n",
    "    # Ruta del archivo JSON\n",
    "    ruta_json = f\"{directory}/data.json\"\n",
    "\n",
    "    # Leer el archivo JSON\n",
    "    with open(ruta_json, \"r\", encoding=\"utf-8\") as archivo:\n",
    "        datos = json.load(archivo)\n",
    "\n",
    "    ruta_json = f\"{directory}/memory.json\"\n",
    "    # Leer el archivo JSON\n",
    "    with open(ruta_json, \"r\", encoding=\"utf-8\") as archivo:\n",
    "        memoria = json.load(archivo)\n",
    "\n",
    "    for problema in memoria.keys():\n",
    "        memoria[problema][\"properties\"]=datos[problema][\"description\"]\n",
    "    \n",
    "    with open(ruta_json, \"w\", encoding=\"utf-8\") as archivo:\n",
    "        json.dump(memoria, archivo, indent=4)  # `indent=4` para formato legible\n",
    "\n",
    "corregir_properties(\"K_Colorability\")"
   ]
  }
 ],
 "metadata": {
  "kernelspec": {
   "display_name": "base",
   "language": "python",
   "name": "python3"
  },
  "language_info": {
   "codemirror_mode": {
    "name": "ipython",
    "version": 3
   },
   "file_extension": ".py",
   "mimetype": "text/x-python",
   "name": "python",
   "nbconvert_exporter": "python",
   "pygments_lexer": "ipython3",
   "version": "3.10.13"
  }
 },
 "nbformat": 4,
 "nbformat_minor": 2
}
